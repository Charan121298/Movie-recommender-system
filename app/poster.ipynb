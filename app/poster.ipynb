{
 "cells": [
  {
   "cell_type": "code",
   "execution_count": 5,
   "metadata": {},
   "outputs": [
    {
     "name": "stdout",
     "output_type": "stream",
     "text": [
      "Error: Invalid API key!\n",
      "Unable to fetch poster for 'Inception'\n"
     ]
    }
   ],
   "source": [
    "import requests\n",
    "\n",
    "def fetch_movie_poster(movie_name):\n",
    "    api_key = '8653d041'  # Replace with your actual OMDB API key\n",
    "    url = \"http://www.omdbapi.com/?i=tt3896198&apikey=8653d041\"\n",
    "\n",
    "    try:\n",
    "        response = requests.get(url)\n",
    "        data = response.json()\n",
    "        if data['Response'] == 'True':\n",
    "            poster_url = data['Poster']\n",
    "            return poster_url\n",
    "        else:\n",
    "            print(f\"Error: {data['Error']}\")\n",
    "            return None\n",
    "    except requests.exceptions.RequestException as e:\n",
    "        print(f\"Error fetching data: {e}\")\n",
    "        return None\n",
    "    except KeyError as e:\n",
    "        print(f\"Error parsing data: {e}\")\n",
    "        return None\n",
    "\n",
    "# Example usage:\n",
    "movie_name = 'Inception'\n",
    "poster_url = fetch_movie_poster(movie_name)\n",
    "\n",
    "if poster_url:\n",
    "    print(f\"Poster URL for '{movie_name}': {poster_url}\")\n",
    "else:\n",
    "    print(f\"Unable to fetch poster for '{movie_name}'\")\n"
   ]
  }
 ],
 "metadata": {
  "kernelspec": {
   "display_name": "Python 3",
   "language": "python",
   "name": "python3"
  },
  "language_info": {
   "codemirror_mode": {
    "name": "ipython",
    "version": 3
   },
   "file_extension": ".py",
   "mimetype": "text/x-python",
   "name": "python",
   "nbconvert_exporter": "python",
   "pygments_lexer": "ipython3",
   "version": "3.11.3"
  }
 },
 "nbformat": 4,
 "nbformat_minor": 2
}
